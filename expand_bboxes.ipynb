{
 "cells": [
  {
   "cell_type": "code",
   "execution_count": 1,
   "metadata": {
    "pycharm": {
     "name": "#%%\n"
    }
   },
   "outputs": [],
   "source": [
    "import json\n",
    "import pandas as pd\n",
    "import cv2"
   ]
  },
  {
   "cell_type": "code",
   "execution_count": 2,
   "metadata": {
    "pycharm": {
     "name": "#%%\n"
    }
   },
   "outputs": [],
   "source": [
    "# f = open(f\"/home/aidan/coco (copy)/annotations/instances_val2017.json\", 'r')\n",
    "f = open(f\"/home/aidan/fiftyone/coco/annotations/instances_val2017.json\", 'r')\n",
    "\n",
    "# returns JSON object as\n",
    "# a dictionary\n",
    "data = json.load(f)\n",
    "\n",
    "# Closing file\n",
    "f.close()"
   ]
  },
  {
   "cell_type": "code",
   "execution_count": 3,
   "metadata": {
    "pycharm": {
     "name": "#%%\n"
    }
   },
   "outputs": [],
   "source": [
    "annotations = pd.DataFrame(data['annotations'])"
   ]
  },
  {
   "cell_type": "code",
   "execution_count": 4,
   "metadata": {
    "pycharm": {
     "name": "#%%\n"
    }
   },
   "outputs": [],
   "source": [
    "# Removing annotations with different format\n",
    "annotations = annotations[annotations['iscrowd'] == 0]"
   ]
  },
  {
   "cell_type": "code",
   "execution_count": 6,
   "metadata": {
    "pycharm": {
     "name": "#%%\n"
    }
   },
   "outputs": [],
   "source": [
    "# Cross joining the annotations on image level\n",
    "annotationsMerged = pd.merge(annotations, annotations, on='image_id', suffixes=('_p', '_s'))"
   ]
  },
  {
   "cell_type": "code",
   "execution_count": 7,
   "metadata": {
    "pycharm": {
     "name": "#%%\n"
    }
   },
   "outputs": [],
   "source": [
    "# Removing annotations with themselves\n",
    "annotationsMerged = annotationsMerged[annotationsMerged['id_p']!= annotationsMerged['id_s']]"
   ]
  },
  {
   "cell_type": "code",
   "execution_count": 8,
   "metadata": {
    "pycharm": {
     "name": "#%%\n"
    }
   },
   "outputs": [],
   "source": [
    "# Function to determine if bboxes intersect\n",
    "def is_intersected(row):\n",
    "    x1_p, y1_p, x2_p, y2_p = row['bbox_p'][0], row['bbox_p'][1], row['bbox_p'][0] + row['bbox_p'][2], row['bbox_p'][1] + row['bbox_p'][3]\n",
    "    x1_s, y1_s, x2_s, y2_s = row['bbox_s'][0], row['bbox_s'][1], row['bbox_s'][0] + row['bbox_s'][2], row['bbox_s'][1] + row['bbox_s'][3]\n",
    "    \n",
    "    \n",
    "    xLeft, yTop = max(x1_p, x1_s), max(y1_p, y1_s)\n",
    "    \n",
    "    xRight, yBottom = min(x2_p, x2_s), min(y2_p, y2_s)\n",
    "    \n",
    "    width = xRight - xLeft\n",
    "    height = yBottom - yTop\n",
    "    \n",
    "    if (width < 0) | (height < 0):\n",
    "        return False\n",
    "    else:\n",
    "        return True"
   ]
  },
  {
   "cell_type": "code",
   "execution_count": 9,
   "metadata": {
    "pycharm": {
     "is_executing": true,
     "name": "#%%\n"
    }
   },
   "outputs": [],
   "source": [
    "# Computing indicator of bboxes that are intersected\n",
    "annotationsMerged['intersection'] = annotationsMerged.apply(lambda row: is_intersected(row), axis=1)"
   ]
  },
  {
   "cell_type": "code",
   "execution_count": 10,
   "metadata": {
    "pycharm": {
     "is_executing": true,
     "name": "#%%\n"
    }
   },
   "outputs": [],
   "source": [
    "# Getting only bboxes that are intersected\n",
    "annotationsIntersected = annotationsMerged[annotationsMerged['intersection']]"
   ]
  },
  {
   "cell_type": "code",
   "execution_count": 11,
   "metadata": {
    "pycharm": {
     "is_executing": true,
     "name": "#%%\n"
    }
   },
   "outputs": [],
   "source": [
    "annotationsNoIntersection = annotations[~annotations['image_id'].isin(annotationsIntersected['image_id'])]"
   ]
  },
  {
   "cell_type": "code",
   "execution_count": 12,
   "metadata": {
    "pycharm": {
     "name": "#%%\n"
    }
   },
   "outputs": [
    {
     "name": "stderr",
     "output_type": "stream",
     "text": [
      "/tmp/ipykernel_13354/4155713898.py:1: SettingWithCopyWarning: \n",
      "A value is trying to be set on a copy of a slice from a DataFrame.\n",
      "Try using .loc[row_indexer,col_indexer] = value instead\n",
      "\n",
      "See the caveats in the documentation: https://pandas.pydata.org/pandas-docs/stable/user_guide/indexing.html#returning-a-view-versus-a-copy\n",
      "  annotationsIntersected['old_image_id'] = annotationsIntersected['image_id']\n"
     ]
    }
   ],
   "source": [
    "annotationsIntersected['old_image_id'] = annotationsIntersected['image_id']"
   ]
  },
  {
   "cell_type": "code",
   "execution_count": 13,
   "metadata": {
    "pycharm": {
     "name": "#%%\n"
    }
   },
   "outputs": [
    {
     "name": "stderr",
     "output_type": "stream",
     "text": [
      "/tmp/ipykernel_13354/1799753131.py:1: SettingWithCopyWarning: \n",
      "A value is trying to be set on a copy of a slice from a DataFrame.\n",
      "Try using .loc[row_indexer,col_indexer] = value instead\n",
      "\n",
      "See the caveats in the documentation: https://pandas.pydata.org/pandas-docs/stable/user_guide/indexing.html#returning-a-view-versus-a-copy\n",
      "  annotationsIntersected['image_id'] = annotationsIntersected['image_id'].astype(str) + annotationsIntersected['id_p'].astype(str)\n"
     ]
    }
   ],
   "source": [
    "annotationsIntersected['image_id'] = annotationsIntersected['image_id'].astype(str) + annotationsIntersected['id_p'].astype(str)"
   ]
  },
  {
   "cell_type": "code",
   "execution_count": 14,
   "metadata": {
    "pycharm": {
     "is_executing": true,
     "name": "#%%\n"
    }
   },
   "outputs": [],
   "source": [
    "def update_seg(row):\n",
    "    # Computing extrema of primary bbox\n",
    "    x1_min, y1_min, x2_max, y2_max = row['bbox_p'][0], row['bbox_p'][1], row['bbox_p'][0] + row['bbox_p'][2], row['bbox_p'][1] + row['bbox_p'][3]\n",
    "\n",
    "    newSegSecondary = []\n",
    "    # Iterating through the segs\n",
    "    for segIndex, seg in enumerate(row['segmentation_s']):\n",
    "        newSegValues = []\n",
    "        for index in range(0,len(seg), 2):\n",
    "            x,y = seg[index], seg[index+1]\n",
    "\n",
    "            if (x >= x1_min) & (x <= x2_max) & (y >= y1_min) & (y <= y2_max):\n",
    "                # Normalizing the coords\n",
    "                newSegValues.append(x - x1_min)\n",
    "                newSegValues.append(y - y1_min)\n",
    "            \n",
    "            if x < x1_min:\n",
    "                newSegValues.append(0)\n",
    "            elif x > x2_max:\n",
    "                newSegValues.append(x2_max)\n",
    "            else:\n",
    "                newSegValues.append(x-x1_min)\n",
    "\n",
    "                \n",
    "            if y < y1_min:\n",
    "                newSegValues.append(0)\n",
    "            elif y > y2_max:\n",
    "                newSegValues.append(y2_max)\n",
    "            else:\n",
    "                newSegValues.append(y-y1_min)\n",
    "\n",
    "        # Have at least 4 points\n",
    "        if len(newSegValues) >= 8:\n",
    "            newSegSecondary.append(newSegValues)\n",
    "            \n",
    "    newSegPrimary = []\n",
    "    # Iterating through the segs\n",
    "    for segIndex, seg in enumerate(row['segmentation_p']):\n",
    "        newSegValues = []\n",
    "        for index in range(0,len(seg), 2):\n",
    "            x,y = seg[index], seg[index+1]\n",
    "\n",
    "            # Normalizing the coords\n",
    "            newSegValues.append(x - x1_min)\n",
    "            newSegValues.append(y - y1_min)\n",
    "            \n",
    "         \n",
    "            \n",
    "            assert (x - x1_min) >= 0.0\n",
    "            assert (y - y1_min) >= 0.0\n",
    "            \n",
    "        newSegPrimary.append(newSegValues)\n",
    "        \n",
    "    row['segmentation_p'] = newSegPrimary\n",
    "    row['segmentation_s'] = newSegSecondary\n",
    "                \n",
    "\n",
    "    return row"
   ]
  },
  {
   "cell_type": "code",
   "execution_count": 15,
   "metadata": {
    "pycharm": {
     "name": "#%%\n"
    }
   },
   "outputs": [],
   "source": [
    "def update_seg_no_intersection(row):\n",
    "    \n",
    "    x1_min, y1_min = row['bbox'][0], row['bbox'][1]\n",
    "            \n",
    "    newSegPrimary = []\n",
    "    # Iterating through the segs\n",
    "    for segIndex, seg in enumerate(row['segmentation']):\n",
    "        newSegValues = []\n",
    "        for index in range(0,len(seg), 2):\n",
    "            x,y = seg[index], seg[index+1]\n",
    "\n",
    "            # Normalizing the coords\n",
    "            newSegValues.append(x - x1_min)\n",
    "            newSegValues.append(y - y1_min)\n",
    "            \n",
    "         \n",
    "            \n",
    "            assert (x - x1_min) >= 0.0\n",
    "            assert (y - y1_min) >= 0.0\n",
    "            \n",
    "        newSegPrimary.append(newSegValues)\n",
    "        \n",
    "    row['segmentation'] = newSegPrimary\n",
    "                \n",
    "\n",
    "    return row"
   ]
  },
  {
   "cell_type": "code",
   "execution_count": 16,
   "metadata": {
    "pycharm": {
     "is_executing": true,
     "name": "#%%\n"
    }
   },
   "outputs": [],
   "source": [
    "annotationsIntersected = annotationsIntersected.apply(lambda row: update_seg(row), axis=1)"
   ]
  },
  {
   "cell_type": "code",
   "execution_count": 17,
   "metadata": {
    "pycharm": {
     "is_executing": true,
     "name": "#%%\n"
    }
   },
   "outputs": [],
   "source": [
    "annotationsIntersectedSecondary = annotationsIntersected[['segmentation_s', 'area_s', 'iscrowd_s',\n",
    "       'bbox_s', 'category_id_s', 'id_s', 'image_id']]"
   ]
  },
  {
   "cell_type": "code",
   "execution_count": 18,
   "metadata": {
    "pycharm": {
     "is_executing": true,
     "name": "#%%\n"
    }
   },
   "outputs": [],
   "source": [
    "annotationsIntersectedSecondary.columns = ['segmentation', 'area', 'iscrowd',\n",
    "       'bbox', 'category_id', 'id', 'image_id']"
   ]
  },
  {
   "cell_type": "code",
   "execution_count": 19,
   "metadata": {
    "pycharm": {
     "is_executing": true,
     "name": "#%%\n"
    }
   },
   "outputs": [],
   "source": [
    "annotationsIntersectedPrimary = annotationsIntersected[['segmentation_p', 'area_p', 'iscrowd_p', 'image_id', 'bbox_p',\n",
    "       'category_id_p', 'id_p', 'old_image_id']]"
   ]
  },
  {
   "cell_type": "code",
   "execution_count": 20,
   "metadata": {
    "pycharm": {
     "is_executing": true,
     "name": "#%%\n"
    }
   },
   "outputs": [],
   "source": [
    "annotationsIntersectedPrimary.columns = ['segmentation', 'area', 'iscrowd', 'image_id', 'bbox',\n",
    "       'category_id', 'id', 'old_image_id']"
   ]
  },
  {
   "cell_type": "code",
   "execution_count": 21,
   "metadata": {
    "pycharm": {
     "name": "#%%\n"
    }
   },
   "outputs": [],
   "source": [
    "annotationsIntersectedPrimary = annotationsIntersectedPrimary[annotationsIntersectedPrimary[['id']].groupby('id').cumcount() == 0]"
   ]
  },
  {
   "cell_type": "code",
   "execution_count": 22,
   "metadata": {
    "pycharm": {
     "name": "#%%\n"
    }
   },
   "outputs": [],
   "source": [
    "annotationsNoIntersection = annotationsNoIntersection.apply(lambda row: update_seg_no_intersection(row), axis=1)"
   ]
  },
  {
   "cell_type": "code",
   "execution_count": 26,
   "metadata": {
    "pycharm": {
     "name": "#%%\n"
    }
   },
   "outputs": [],
   "source": [
    "for index, row in annotationsNoIntersection.iterrows():\n",
    "    image = cv2.imread(f\"/home/aidan/fiftyone/coco/val2017/{str(row['image_id']).rjust(12, '0')}.jpg\")\n",
    "    \n",
    "    x1_min, y1_min, x2_max, y2_max = row['bbox'][0], row['bbox'][1], row['bbox'][0] + row['bbox'][2], row['bbox'][1] + row['bbox'][3]\n",
    "    \n",
    "    image = image[int(y1_min):int(y2_max),int(x1_min):int(x2_max),:]\n",
    "    \n",
    "    cv2.cv2.imwrite(f\"/home/aidan/fiftyone/coco-cropped/val2017/{str(row['image_id']).rjust(12, '0')}.jpg\", image)\n"
   ]
  },
  {
   "cell_type": "code",
   "execution_count": 27,
   "metadata": {
    "pycharm": {
     "name": "#%%\n"
    }
   },
   "outputs": [],
   "source": [
    "for index, row in annotationsIntersectedPrimary.iterrows():\n",
    "    image = cv2.imread(f\"/home/aidan/fiftyone/coco/val2017/{str(row['old_image_id']).rjust(12, '0')}.jpg\")\n",
    "    \n",
    "    x1_min, y1_min, x2_max, y2_max = row['bbox'][0], row['bbox'][1], row['bbox'][0] + row['bbox'][2], row['bbox'][1] + row['bbox'][3]\n",
    "    \n",
    "    image = image[int(y1_min):int(y2_max),int(x1_min):int(x2_max),:]\n",
    "    \n",
    "    cv2.cv2.imwrite(f\"/home/aidan/fiftyone/coco-cropped/val2017/{str(row['image_id']).rjust(12, '0')}.jpg\", image)\n",
    "    \n",
    " \n"
   ]
  },
  {
   "cell_type": "code",
   "execution_count": 28,
   "metadata": {
    "pycharm": {
     "name": "#%%\n"
    }
   },
   "outputs": [],
   "source": [
    "newAnnotations = pd.concat([annotationsNoIntersection, annotationsIntersectedPrimary, annotationsIntersectedSecondary])"
   ]
  },
  {
   "cell_type": "code",
   "execution_count": 29,
   "metadata": {
    "pycharm": {
     "name": "#%%\n"
    }
   },
   "outputs": [],
   "source": [
    "newAnnotations = newAnnotations.drop('old_image_id', axis=1)"
   ]
  },
  {
   "cell_type": "code",
   "execution_count": 30,
   "metadata": {
    "pycharm": {
     "name": "#%%\n"
    }
   },
   "outputs": [],
   "source": [
    "newAnnotations['id'] = range(0, len(newAnnotations))"
   ]
  },
  {
   "cell_type": "code",
   "execution_count": 31,
   "metadata": {
    "pycharm": {
     "name": "#%%\n"
    }
   },
   "outputs": [],
   "source": [
    "newAnnotations['image_id'] = newAnnotations['image_id'].astype(int)"
   ]
  },
  {
   "cell_type": "code",
   "execution_count": 32,
   "metadata": {
    "pycharm": {
     "name": "#%%\n"
    }
   },
   "outputs": [],
   "source": [
    "data['annotations'] = newAnnotations.to_dict('records')"
   ]
  },
  {
   "cell_type": "code",
   "execution_count": 33,
   "metadata": {
    "pycharm": {
     "name": "#%%\n"
    }
   },
   "outputs": [],
   "source": [
    "imageList = pd.DataFrame(newAnnotations['image_id'].apply(lambda image: str(image).rjust(12, '0') + '.jpg'))"
   ]
  },
  {
   "cell_type": "code",
   "execution_count": 34,
   "metadata": {
    "pycharm": {
     "name": "#%%\n"
    }
   },
   "outputs": [],
   "source": [
    "imageList['width'] = newAnnotations['bbox'].apply(lambda box: int(box[2]))\n",
    "imageList['height'] = newAnnotations['bbox'].apply(lambda box: int(box[3]))"
   ]
  },
  {
   "cell_type": "code",
   "execution_count": 35,
   "metadata": {
    "pycharm": {
     "name": "#%%\n"
    }
   },
   "outputs": [],
   "source": [
    "imageList = imageList.rename({'image_id': 'file_name'}, axis=1)"
   ]
  },
  {
   "cell_type": "code",
   "execution_count": 36,
   "metadata": {
    "pycharm": {
     "name": "#%%\n"
    }
   },
   "outputs": [],
   "source": [
    "imageList['id'] = newAnnotations['image_id']"
   ]
  },
  {
   "cell_type": "code",
   "execution_count": 37,
   "metadata": {
    "pycharm": {
     "name": "#%%\n"
    }
   },
   "outputs": [],
   "source": [
    "data['images'] = imageList.to_dict('records')"
   ]
  },
  {
   "cell_type": "code",
   "execution_count": 38,
   "metadata": {
    "pycharm": {
     "name": "#%%\n"
    }
   },
   "outputs": [],
   "source": [
    "# Dumping the new label\n",
    "jsonObject = json.dumps(data)\n",
    "\n",
    "with open(f\"/home/aidan/fiftyone/coco-cropped/annotations/instances_val2017.json\", \"w\") as outfile:\n",
    "    outfile.write(jsonObject)"
   ]
  },
  {
   "cell_type": "code",
   "execution_count": null,
   "metadata": {},
   "outputs": [],
   "source": []
  }
 ],
 "metadata": {
  "kernelspec": {
   "display_name": "Python 3 (ipykernel)",
   "language": "python",
   "name": "python3"
  },
  "language_info": {
   "codemirror_mode": {
    "name": "ipython",
    "version": 3
   },
   "file_extension": ".py",
   "mimetype": "text/x-python",
   "name": "python",
   "nbconvert_exporter": "python",
   "pygments_lexer": "ipython3",
   "version": "3.8.13"
  }
 },
 "nbformat": 4,
 "nbformat_minor": 1
}